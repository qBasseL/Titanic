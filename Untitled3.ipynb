{
 "cells": [
  {
   "cell_type": "markdown",
   "id": "9dd3fa15-ad18-4a9e-b83e-5f23d1fec6c1",
   "metadata": {},
   "source": [
    "# # Titanic Data Analysis Project\n",
    "\n",
    "In this notebook, we'll perform data preprocessing and exploratory data analysis on the Titanic dataset. We'll handle missing values, convert categorical variables, and visualize some key insights.\n",
    "\n"
   ]
  },
  {
   "cell_type": "code",
   "execution_count": 77,
   "id": "5683ddca-87dd-4ace-8da9-c6fa3d38c4aa",
   "metadata": {},
   "outputs": [],
   "source": [
    "import pandas as pd\n",
    "from sklearn.preprocessing import StandardScaler\n",
    "from sklearn.ensemble import RandomForestClassifier\n",
    "from sklearn.metrics import accuracy_score\n",
    "import joblib\n",
    "import matplotlib.pyplot as plt\n"
   ]
  },
  {
   "cell_type": "code",
   "execution_count": 79,
   "id": "c4823a15-935d-4091-87a7-9c727d24d00b",
   "metadata": {},
   "outputs": [],
   "source": [
    "# Load the datasets\n",
    "df_train = pd.read_csv('train.csv')\n",
    "df_test = pd.read_csv('test[1].csv')\n"
   ]
  },
  {
   "cell_type": "code",
   "execution_count": 84,
   "id": "3044244d-abdd-473b-b0a3-931234b29f16",
   "metadata": {},
   "outputs": [],
   "source": [
    "# Handle missing values in the training dataset\n",
    "# Fill missing values in 'Embarked' column with the most frequent value\n",
    "df_train['Embarked'] = df_train['Embarked'].fillna(df_train['Embarked'].mode()[0])\n",
    "\n",
    "# Fill missing values in 'Age' column with the median value\n",
    "df_train['Age'] = df_train['Age'].fillna(df_train['Age'].median())\n"
   ]
  },
  {
   "cell_type": "code",
   "execution_count": 86,
   "id": "447ad97a-b75c-4386-863f-36366ce30ce8",
   "metadata": {},
   "outputs": [],
   "source": [
    "# Convert categorical variables to numerical in the training dataset\n",
    "df_train['Embarked'] = df_train['Embarked'].astype('category').cat.codes\n",
    "df_train['Sex'] = df_train['Sex'].astype('category').cat.codes\n"
   ]
  },
  {
   "cell_type": "code",
   "execution_count": 90,
   "id": "eaba8808-91fa-43aa-abd7-3538f74079bd",
   "metadata": {},
   "outputs": [],
   "source": [
    "# Ensure 'Embarked' and 'Age' columns are present in df_test\n",
    "if 'Embarked' not in df_test.columns:\n",
    "    # If 'Embarked' column is missing, create it with default values\n",
    "    df_test['Embarked'] = df_train['Embarked'].mode()[0]  # or use another appropriate default\n",
    "\n",
    "if 'Age' not in df_test.columns:\n",
    "    # If 'Age' column is missing, create it with default values\n",
    "    df_test['Age'] = df_train['Age'].median()  # or use another appropriate default\n",
    "\n",
    "# Handle missing values in the test dataset\n",
    "df_test['Embarked'] = df_test['Embarked'].fillna(df_train['Embarked'].mode()[0])\n",
    "df_test['Age'] = df_test['Age'].fillna(df_train['Age'].median())\n"
   ]
  },
  {
   "cell_type": "code",
   "execution_count": 62,
   "id": "d5949a67-d1d0-4fc0-9e8e-52d84a846a37",
   "metadata": {},
   "outputs": [
    {
     "name": "stdout",
     "output_type": "stream",
     "text": [
      "Column 'Sex' is missing in the test data.\n",
      "Column 'Embarked' is missing in the test data.\n"
     ]
    }
   ],
   "source": [
    "# Convert categorical variables to numerical values in the training dataset\n",
    "if 'Sex' in df_train.columns:\n",
    "    df_train['Sex'] = df_train['Sex'].astype('category').cat.codes\n",
    "else:\n",
    "    print(\"Column 'Sex' is missing in the training data.\")\n",
    "\n",
    "if 'Embarked' in df_train.columns:\n",
    "    df_train['Embarked'] = df_train['Embarked'].astype('category').cat.codes\n",
    "else:\n",
    "    print(\"Column 'Embarked' is missing in the training data.\")\n",
    "\n",
    "# Convert categorical variables to numerical values in the test dataset\n",
    "if 'Sex' in df_test.columns:\n",
    "    df_test['Sex'] = df_test['Sex'].astype('category').cat.codes\n",
    "else:\n",
    "    print(\"Column 'Sex' is missing in the test data.\")\n",
    "\n",
    "if 'Embarked' in df_test.columns:\n",
    "    df_test['Embarked'] = df_test['Embarked'].astype('category').cat.codes\n",
    "else:\n",
    "    print(\"Column 'Embarked' is missing in the test data.\")\n"
   ]
  },
  {
   "cell_type": "code",
   "execution_count": 92,
   "id": "18fdc147-46d9-4e6f-9153-6ab6253d25df",
   "metadata": {},
   "outputs": [],
   "source": [
    "# Separate features and target variable in the training dataset\n",
    "if 'Survived' in df_train.columns:\n",
    "    X_train = df_train.drop(columns=['Survived'])\n",
    "    y_train = df_train['Survived']\n",
    "else:\n",
    "    raise KeyError(\"Target column 'Survived' is missing in the training data.\")\n"
   ]
  },
  {
   "cell_type": "code",
   "execution_count": 94,
   "id": "d38efbb2-539a-48a2-8b33-d44ac74c4198",
   "metadata": {},
   "outputs": [
    {
     "name": "stdout",
     "output_type": "stream",
     "text": [
      "Missing columns in test data: {'Fare', 'Pclass', 'SibSp', 'Name', 'Ticket', 'Parch', 'PassengerId', 'Cabin', 'Sex'}\n"
     ]
    }
   ],
   "source": [
    "# Prepare features for the test dataset\n",
    "X_test = df_test.copy()\n",
    "\n",
    "# Check that the test dataset has the same features as the training dataset\n",
    "missing_cols = set(X_train.columns) - set(X_test.columns)\n",
    "if missing_cols:\n",
    "    print(f\"Missing columns in test data: {missing_cols}\")\n",
    "    for col in missing_cols:\n",
    "        X_test[col] = 0  # Or another default value\n",
    "\n",
    "# Align the test dataset columns with the training dataset columns\n",
    "X_test = X_test[X_train.columns]\n"
   ]
  },
  {
   "cell_type": "code",
   "execution_count": 104,
   "id": "29c53553-7165-468b-8a95-f0fb6ed649f6",
   "metadata": {},
   "outputs": [
    {
     "name": "stdout",
     "output_type": "stream",
     "text": [
      "X_train Data Types:\n",
      " PassengerId      int64\n",
      "Pclass           int64\n",
      "Name            object\n",
      "Sex              int32\n",
      "Age            float64\n",
      "SibSp            int64\n",
      "Parch            int64\n",
      "Ticket          object\n",
      "Fare           float64\n",
      "Cabin           object\n",
      "Embarked         int32\n",
      "dtype: object\n",
      "X_test Data Types:\n",
      " PassengerId      int64\n",
      "Pclass           int64\n",
      "Name             int64\n",
      "Sex              int32\n",
      "Age            float64\n",
      "SibSp            int64\n",
      "Parch            int64\n",
      "Ticket           int64\n",
      "Fare             int64\n",
      "Cabin            int64\n",
      "Embarked         int32\n",
      "dtype: object\n",
      "Non-numeric columns in X_train:\n",
      " Index(['Name', 'Ticket', 'Cabin'], dtype='object')\n",
      "Non-numeric columns in X_test:\n",
      " Index([], dtype='object')\n",
      "X_train sample values:\n",
      "    PassengerId  Pclass                                               Name  \\\n",
      "0            1       3                            Braund, Mr. Owen Harris   \n",
      "1            2       1  Cumings, Mrs. John Bradley (Florence Briggs Th...   \n",
      "2            3       3                             Heikkinen, Miss. Laina   \n",
      "3            4       1       Futrelle, Mrs. Jacques Heath (Lily May Peel)   \n",
      "4            5       3                           Allen, Mr. William Henry   \n",
      "\n",
      "   Sex   Age  SibSp  Parch            Ticket     Fare Cabin  Embarked  \n",
      "0    1  22.0      1      0         A/5 21171   7.2500   NaN         2  \n",
      "1    0  38.0      1      0          PC 17599  71.2833   C85         0  \n",
      "2    0  26.0      0      0  STON/O2. 3101282   7.9250   NaN         2  \n",
      "3    0  35.0      1      0            113803  53.1000  C123         2  \n",
      "4    1  35.0      0      0            373450   8.0500   NaN         2  \n",
      "X_test sample values:\n",
      "    PassengerId  Pclass  Name  Sex   Age  SibSp  Parch  Ticket  Fare  Cabin  \\\n",
      "0            0       0     0    0  28.0      0      0       0     0      0   \n",
      "1            0       0     0    0  28.0      0      0       0     0      0   \n",
      "2            0       0     0    0  28.0      0      0       0     0      0   \n",
      "3            0       0     0    0  28.0      0      0       0     0      0   \n",
      "4            0       0     0    0  28.0      0      0       0     0      0   \n",
      "\n",
      "   Embarked  \n",
      "0         2  \n",
      "1         2  \n",
      "2         2  \n",
      "3         2  \n",
      "4         2  \n",
      "Training features shape: (891, 11)\n",
      "Training target shape: (891,)\n",
      "Test features shape: (200000, 11)\n"
     ]
    }
   ],
   "source": [
    "from sklearn.preprocessing import LabelEncoder, StandardScaler\n",
    "\n",
    "# List of categorical columns\n",
    "categorical_cols = ['Embarked', 'Sex']  # Add other categorical columns if there are any\n",
    "\n",
    "# Encode categorical columns in training data\n",
    "le = LabelEncoder()\n",
    "\n",
    "# Apply LabelEncoder only to categorical columns\n",
    "for col in categorical_cols:\n",
    "    if col in X_train.columns:\n",
    "        X_train[col] = le.fit_transform(X_train[col].astype(str))\n",
    "        if col in X_test.columns:\n",
    "            X_test[col] = le.transform(X_test[col].astype(str))\n",
    "\n",
    "# Check the data types to ensure all columns are numeric\n",
    "print(\"X_train Data Types:\\n\", X_train.dtypes)\n",
    "print(\"X_test Data Types:\\n\", X_test.dtypes)\n",
    "\n",
    "# Identify and print columns that are still non-numeric\n",
    "non_numeric_cols_train = X_train.select_dtypes(include=['object']).columns\n",
    "non_numeric_cols_test = X_test.select_dtypes(include=['object']).columns\n",
    "\n",
    "print(\"Non-numeric columns in X_train:\\n\", non_numeric_cols_train)\n",
    "print(\"Non-numeric columns in X_test:\\n\", non_numeric_cols_test)\n",
    "\n",
    "# Check for any remaining non-numeric values\n",
    "print(\"X_train sample values:\\n\", X_train.head())\n",
    "print(\"X_test sample values:\\n\", X_test.head())\n",
    "\n",
    "# Convert any remaining non-numeric columns manually if needed\n",
    "for col in non_numeric_cols_train:\n",
    "    X_train[col] = le.fit_transform(X_train[col].astype(str))\n",
    "for col in non_numeric_cols_test:\n",
    "    X_test[col] = le.transform(X_test[col].astype(str))\n",
    "\n",
    "# Ensure no columns are of type object (string) after conversion\n",
    "assert all(X_train.dtypes != 'object'), \"Some columns in X_train are still non-numeric.\"\n",
    "assert all(X_test.dtypes != 'object'), \"Some columns in X_test are still non-numeric.\"\n",
    "\n",
    "# Normalize or scale features if required\n",
    "scaler = StandardScaler()\n",
    "X_train_scaled = scaler.fit_transform(X_train)\n",
    "X_test_scaled = scaler.transform(X_test)\n",
    "\n",
    "print(f\"Training features shape: {X_train_scaled.shape}\")\n",
    "print(f\"Training target shape: {y_train.shape}\")\n",
    "print(f\"Test features shape: {X_test_scaled.shape}\")\n"
   ]
  },
  {
   "cell_type": "code",
   "execution_count": 116,
   "id": "96805c23-eb87-417e-8eb0-350a0b5b3b11",
   "metadata": {},
   "outputs": [],
   "source": [
    "# Train a RandomForestClassifier\n",
    "model = RandomForestClassifier(n_estimators=100, random_state=42)\n",
    "model.fit(X_train_scaled, y_train)\n",
    "\n",
    "# Make predictions on the test set\n",
    "y_pred = model.predict(X_test_scaled)\n"
   ]
  },
  {
   "cell_type": "code",
   "execution_count": 118,
   "id": "1e58c264-c1ca-4f7b-817f-438a5e201a2d",
   "metadata": {},
   "outputs": [
    {
     "name": "stdout",
     "output_type": "stream",
     "text": [
      "Warning: 'PassengerId' column is missing in the test data. Cannot create a submission file.\n"
     ]
    }
   ],
   "source": [
    "# Create submission file\n",
    "if 'PassengerId' in df_test.columns:\n",
    "    submission = pd.DataFrame({\n",
    "        'PassengerId': df_test['PassengerId'],\n",
    "        'Survived': y_pred\n",
    "    })\n",
    "    submission.to_csv('submission.csv', index=False)\n",
    "    print(\"Submission file created: 'submission.csv'\")\n",
    "else:\n",
    "    print(\"Warning: 'PassengerId' column is missing in the test data. Cannot create a submission file.\")\n"
   ]
  },
  {
   "cell_type": "code",
   "execution_count": 122,
   "id": "e429fe4d-7f9f-4e06-96a0-d5fafab7756f",
   "metadata": {},
   "outputs": [
    {
     "name": "stdout",
     "output_type": "stream",
     "text": [
      "Model saved to random_forest_model.pkl\n"
     ]
    }
   ],
   "source": [
    "# Save the model\n",
    "model_filename = 'random_forest_model.pkl'\n",
    "joblib.dump(model, model_filename)\n",
    "print(f\"Model saved to {model_filename}\")\n",
    "\n",
    "# Optionally, load the model\n",
    "# loaded_model = joblib.load(model_filename)\n",
    "# y_pred_loaded = loaded_model.predict(X_test_scaled)\n",
    "# print(f\"Predictions from loaded model: {y_pred_loaded[:10]}\")\n"
   ]
  },
  {
   "cell_type": "code",
   "execution_count": 124,
   "id": "236d936f-76b8-4b8f-b6d8-c02e4c5a53f0",
   "metadata": {},
   "outputs": [
    {
     "data": {
      "image/png": "[encoded data removed]",
      "text/plain": [
       "<Figure size 1200x800 with 1 Axes>"
      ]
     },
     "metadata": {},
     "output_type": "display_data"
    }
   ],
   "source": [
    "# Plot feature importances\n",
    "if hasattr(model, 'feature_importances_'):\n",
    "    importances = model.feature_importances_\n",
    "    features = X_train.columns\n",
    "    indices = importances.argsort()[::-1]\n",
    "\n",
    "    plt.figure(figsize=(12, 8))\n",
    "    plt.title(\"Feature Importances\")\n",
    "    plt.bar(range(X_train.shape[1]), importances[indices], align=\"center\")\n",
    "    plt.xticks(range(X_train.shape[1]), features[indices], rotation=90)\n",
    "    plt.xlim([-1, X_train.shape[1]])\n",
    "    plt.tight_layout()\n",
    "    plt.show()\n",
    "else:\n",
    "    print(\"Model does not have feature importances.\")\n"
   ]
  },
  {
   "cell_type": "code",
   "execution_count": null,
   "id": "0959ea06-be94-43c4-9acb-d0f4725839c8",
   "metadata": {},
   "outputs": [],
   "source": []
  }
 ],
 "metadata": {
  "kernelspec": {
   "display_name": "Python 3 (ipykernel)",
   "language": "python",
   "name": "python3"
  },
  "language_info": {
   "codemirror_mode": {
    "name": "ipython",
    "version": 3
   },
   "file_extension": ".py",
   "mimetype": "text/x-python",
   "name": "python",
   "nbconvert_exporter": "python",
   "pygments_lexer": "ipython3",
   "version": "3.12.4"
  }
 },
 "nbformat": 4,
 "nbformat_minor": 5
}
